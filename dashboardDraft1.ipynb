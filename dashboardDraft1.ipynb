{
 "cells": [
  {
   "cell_type": "code",
   "execution_count": 1,
   "metadata": {
    "extensions": {
     "jupyter_dashboards": {
      "version": 1,
      "views": {
       "grid_default": {},
       "report_default": {}
      }
     }
    }
   },
   "outputs": [],
   "source": [
    "import matplotlib.pyplot as plot\n",
    "import matplotlib.dates as dates\n",
    "import pydata_google_auth\n",
    "import pandas as pd\n",
    "from google.cloud import bigquery\n",
    "import projectIDContainer\n",
    "\n",
    "credentials = pydata_google_auth.get_user_credentials(\n",
    "    ['https://www.googleapis.com/auth/bigquery'],\n",
    ")\n",
    "project_id = projectIDContainer.project_id\n",
    "# hardcoding the pie chart keys and manually setting the colours to be consistent is really not the way I'd like to handle this\n",
    "# TODO: remove the ascending sort from the pie charts; also see what that does to the colour order\n",
    "threeColorsArray = ['#FFC6FF', '#CAFFBF', '#FFD6A5'] # tablet, desktop, mobile\n",
    "threeColorsArray1 = ['#FFC6FF', '#FFD6A5', '#CAFFBF'] # tablet, mobile, desktop\n",
    "threeColorsArray2 = ['#FFD6A5', '#CAFFBF', '#FFC6FF'] # mobile, desktop, tablet\n",
    "rainbowArray = ['#FFADAD', '#FFD6A5', '#FDFFB6', '#CAFFBF', '#9BF6FF', '#A0C4FF', '#BDB2FF', '#FFC6FF']\n",
    "singleColorArray = [\"#BDB2FF\"]\n",
    "\n",
    "def runQuery(queryName):\n",
    "    query = pd.read_gbq(queryName, project_id=project_id, dialect='standard', credentials=credentials)\n",
    "    print(query)\n",
    "    return query\n"
   ]
  },
  {
   "cell_type": "code",
   "execution_count": 2,
   "metadata": {
    "extensions": {
     "jupyter_dashboards": {
      "version": 1,
      "views": {
       "grid_default": {},
       "report_default": {}
      }
     }
    }
   },
   "outputs": [
    {
     "name": "stdout",
     "output_type": "stream",
     "text": [
      "  deviceCategory  totalSessions\n",
      "0         tablet        1931531\n",
      "1        desktop        6572847\n",
      "2         mobile        7935801\n"
     ]
    },
    {
     "data": {
      "text/plain": [
       "<AxesSubplot:ylabel='totalSessions'>"
      ]
     },
     "execution_count": 2,
     "metadata": {},
     "output_type": "execute_result"
    },
    {
     "data": {
      "image/png": "[encoded data removed]",
      "text/plain": [
       "<Figure size 432x288 with 1 Axes>"
      ]
     },
     "metadata": {},
     "output_type": "display_data"
    }
   ],
   "source": [
    "totalSessionsPerDeviceCategory = \"\"\"\n",
    "    SELECT deviceCategory, SUM(sessions) AS totalSessions\n",
    "    FROM \"\"\" + projectIDContainer.project_id + \"\"\"\n",
    "    .sample_data.datatable\n",
    "    GROUP BY deviceCategory\n",
    "    ORDER BY totalSessions ASC\n",
    "\"\"\"\n",
    "runQuery(totalSessionsPerDeviceCategory).plot.pie(x='deviceCategory', y='totalSessions', colors=threeColorsArray, legend=False, labels=[\"tablet\", \"desktop\", \"mobile\"])\n"
   ]
  },
  {
   "cell_type": "code",
   "execution_count": 3,
   "metadata": {
    "extensions": {
     "jupyter_dashboards": {
      "version": 1,
      "views": {
       "grid_default": {},
       "report_default": {}
      }
     }
    }
   },
   "outputs": [
    {
     "name": "stdout",
     "output_type": "stream",
     "text": [
      "     channelGrouping  totalSessions\n",
      "0         Newsletter         106582\n",
      "1            Display         122714\n",
      "2            (Other)         154333\n",
      "3        Retargeting         209782\n",
      "4       Email alerts         298831\n",
      "5        Aggregators         537797\n",
      "6        Paid Search         673125\n",
      "7             Social         677312\n",
      "8   Partner referral         702044\n",
      "9              Email         891855\n",
      "10          Referral        2564612\n",
      "11            Direct        2854506\n",
      "12    Organic Search        6646686\n"
     ]
    },
    {
     "data": {
      "text/plain": [
       "<AxesSubplot:xlabel='channelGrouping'>"
      ]
     },
     "execution_count": 3,
     "metadata": {},
     "output_type": "execute_result"
    },
    {
     "data": {
      "image/png": "[encoded data removed]",
      "text/plain": [
       "<Figure size 432x288 with 1 Axes>"
      ]
     },
     "metadata": {
      "needs_background": "light"
     },
     "output_type": "display_data"
    }
   ],
   "source": [
    "totalSessionsPerChannelGrouping = \"\"\"\n",
    "    SELECT channelGrouping, SUM(sessions) AS totalSessions\n",
    "    FROM \"\"\" + projectIDContainer.project_id + \"\"\"\n",
    "    .sample_data.datatable\n",
    "    GROUP BY channelGrouping\n",
    "    ORDER BY totalSessions ASC\n",
    "\"\"\"\n",
    "runQuery(totalSessionsPerChannelGrouping).plot.bar(x='channelGrouping', y='totalSessions', color=rainbowArray)\n"
   ]
  },
  {
   "cell_type": "code",
   "execution_count": null,
   "metadata": {
    "extensions": {
     "jupyter_dashboards": {
      "version": 1,
      "views": {
       "grid_default": {},
       "report_default": {}
      }
     }
    }
   },
   "outputs": [],
   "source": []
  }
 ],
 "metadata": {
  "extensions": {
   "jupyter_dashboards": {
    "activeView": "grid_default",
    "version": 1,
    "views": {
     "grid_default": {
      "cellMargin": 10,
      "defaultCellHeight": 20,
      "maxColumns": 12,
      "name": "grid",
      "type": "grid"
     },
     "report_default": {
      "name": "report",
      "type": "report"
     }
    }
   }
  },
  "kernelspec": {
   "display_name": "Python 3",
   "language": "python",
   "name": "python3"
  },
  "language_info": {
   "codemirror_mode": {
    "name": "ipython",
    "version": 3
   },
   "file_extension": ".py",
   "mimetype": "text/x-python",
   "name": "python",
   "nbconvert_exporter": "python",
   "pygments_lexer": "ipython3",
   "version": "3.8.5"
  }
 },
 "nbformat": 4,
 "nbformat_minor": 4
}
