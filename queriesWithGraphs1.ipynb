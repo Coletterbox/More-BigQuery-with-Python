{
 "cells": [
  {
   "cell_type": "code",
   "execution_count": 1,
   "metadata": {},
   "outputs": [],
   "source": [
    "%load_ext google.cloud.bigquery"
   ]
  },
  {
   "cell_type": "code",
   "execution_count": 7,
   "metadata": {},
   "outputs": [],
   "source": [
    "import pydata_google_auth\n",
    "credentials = pydata_google_auth.get_user_credentials(\n",
    "    ['https://www.googleapis.com/auth/bigquery'],\n",
    ")"
   ]
  },
  {
   "cell_type": "code",
   "execution_count": 8,
   "metadata": {},
   "outputs": [],
   "source": [
    "query = \"\"\"\n",
    "    SELECT * FROM `apprenticeship-299321.sample_data.datatable`\n",
    "    LIMIT 10\n",
    "\"\"\"\n",
    "project_id = 'apprenticeship-299321'"
   ]
  },
  {
   "cell_type": "code",
   "execution_count": 9,
   "metadata": {},
   "outputs": [
    {
     "data": {
      "text/html": [
       "<div>\n",
       "<style scoped>\n",
       "    .dataframe tbody tr th:only-of-type {\n",
       "        vertical-align: middle;\n",
       "    }\n",
       "\n",
       "    .dataframe tbody tr th {\n",
       "        vertical-align: top;\n",
       "    }\n",
       "\n",
       "    .dataframe thead th {\n",
       "        text-align: right;\n",
       "    }\n",
       "</style>\n",
       "<table border=\"1\" class=\"dataframe\">\n",
       "  <thead>\n",
       "    <tr style=\"text-align: right;\">\n",
       "      <th></th>\n",
       "      <th>date</th>\n",
       "      <th>channelGrouping</th>\n",
       "      <th>deviceCategory</th>\n",
       "      <th>sessions</th>\n",
       "      <th>conversions</th>\n",
       "    </tr>\n",
       "  </thead>\n",
       "  <tbody>\n",
       "    <tr>\n",
       "      <th>0</th>\n",
       "      <td>20180324</td>\n",
       "      <td>Email</td>\n",
       "      <td>mobile</td>\n",
       "      <td>32</td>\n",
       "      <td>0</td>\n",
       "    </tr>\n",
       "    <tr>\n",
       "      <th>1</th>\n",
       "      <td>20180518</td>\n",
       "      <td>Email</td>\n",
       "      <td>mobile</td>\n",
       "      <td>31</td>\n",
       "      <td>0</td>\n",
       "    </tr>\n",
       "    <tr>\n",
       "      <th>2</th>\n",
       "      <td>20180415</td>\n",
       "      <td>Email</td>\n",
       "      <td>mobile</td>\n",
       "      <td>29</td>\n",
       "      <td>0</td>\n",
       "    </tr>\n",
       "    <tr>\n",
       "      <th>3</th>\n",
       "      <td>20171206</td>\n",
       "      <td>Email</td>\n",
       "      <td>mobile</td>\n",
       "      <td>28</td>\n",
       "      <td>0</td>\n",
       "    </tr>\n",
       "    <tr>\n",
       "      <th>4</th>\n",
       "      <td>20180329</td>\n",
       "      <td>Email</td>\n",
       "      <td>mobile</td>\n",
       "      <td>27</td>\n",
       "      <td>0</td>\n",
       "    </tr>\n",
       "    <tr>\n",
       "      <th>5</th>\n",
       "      <td>20171227</td>\n",
       "      <td>Email</td>\n",
       "      <td>mobile</td>\n",
       "      <td>25</td>\n",
       "      <td>0</td>\n",
       "    </tr>\n",
       "    <tr>\n",
       "      <th>6</th>\n",
       "      <td>20180421</td>\n",
       "      <td>Email</td>\n",
       "      <td>mobile</td>\n",
       "      <td>24</td>\n",
       "      <td>0</td>\n",
       "    </tr>\n",
       "    <tr>\n",
       "      <th>7</th>\n",
       "      <td>20180127</td>\n",
       "      <td>Email</td>\n",
       "      <td>desktop</td>\n",
       "      <td>22</td>\n",
       "      <td>0</td>\n",
       "    </tr>\n",
       "    <tr>\n",
       "      <th>8</th>\n",
       "      <td>20170706</td>\n",
       "      <td>Email</td>\n",
       "      <td>mobile</td>\n",
       "      <td>20</td>\n",
       "      <td>0</td>\n",
       "    </tr>\n",
       "    <tr>\n",
       "      <th>9</th>\n",
       "      <td>20180519</td>\n",
       "      <td>Email</td>\n",
       "      <td>desktop</td>\n",
       "      <td>19</td>\n",
       "      <td>0</td>\n",
       "    </tr>\n",
       "  </tbody>\n",
       "</table>\n",
       "</div>"
      ],
      "text/plain": [
       "       date channelGrouping deviceCategory  sessions  conversions\n",
       "0  20180324           Email         mobile        32            0\n",
       "1  20180518           Email         mobile        31            0\n",
       "2  20180415           Email         mobile        29            0\n",
       "3  20171206           Email         mobile        28            0\n",
       "4  20180329           Email         mobile        27            0\n",
       "5  20171227           Email         mobile        25            0\n",
       "6  20180421           Email         mobile        24            0\n",
       "7  20180127           Email        desktop        22            0\n",
       "8  20170706           Email         mobile        20            0\n",
       "9  20180519           Email        desktop        19            0"
      ]
     },
     "execution_count": 9,
     "metadata": {},
     "output_type": "execute_result"
    }
   ],
   "source": [
    "import pandas as pd\n",
    "df = pd.read_gbq(query, project_id=project_id, dialect='standard', credentials=credentials)\n",
    "df"
   ]
  },
  {
   "cell_type": "code",
   "execution_count": null,
   "metadata": {},
   "outputs": [],
   "source": [
    "testQuery1 = \"\"\"\n",
    "    SELECT * FROM `apprenticeship-299321.sample_data.datatable`\n",
    "    LIMIT 100\n",
    "\"\"\"\n",
    "df = pd.read_gbq(testQuery1, project_id=project_id, dialect='standard', credentials=credentials)\n",
    "df"
   ]
  },
  {
   "cell_type": "markdown",
   "metadata": {},
   "source": [
    "## All data (chronological):\n",
    "(TODO: add titles for other cells)"
   ]
  },
  {
   "cell_type": "code",
   "execution_count": null,
   "metadata": {},
   "outputs": [],
   "source": [
    "query0 = \"\"\"\n",
    "    SELECT * FROM `apprenticeship-299321.sample_data.datatable`\n",
    "    ORDER BY date ASC\n",
    "\"\"\"\n",
    "df = pd.read_gbq(query0, project_id=project_id, dialect='standard', credentials=credentials)\n",
    "df"
   ]
  },
  {
   "cell_type": "code",
   "execution_count": 31,
   "metadata": {},
   "outputs": [
    {
     "data": {
      "text/plain": [
       "<AxesSubplot:xlabel='deviceCategory'>"
      ]
     },
     "execution_count": 31,
     "metadata": {},
     "output_type": "execute_result"
    },
    {
     "data": {
      "image/png": "[encoded data removed]",
      "text/plain": [
       "<Figure size 432x288 with 1 Axes>"
      ]
     },
     "metadata": {
      "needs_background": "light"
     },
     "output_type": "display_data"
    }
   ],
   "source": [
    "query2 = \"\"\"\n",
    "    SELECT deviceCategory, COUNT(*) AS deviceCategoryCount\n",
    "    FROM `apprenticeship-299321.sample_data.datatable`\n",
    "    GROUP BY deviceCategory\n",
    "    ORDER BY deviceCategoryCount ASC\n",
    "\"\"\"\n",
    "df = pd.read_gbq(query2, project_id=project_id, dialect='standard', credentials=credentials)\n",
    "# df.plot.line(x='deviceCategory', y='deviceCategoryCount')\n",
    "df.plot.bar(x='deviceCategory', y='deviceCategoryCount')"
   ]
  },
  {
   "cell_type": "code",
   "execution_count": 32,
   "metadata": {},
   "outputs": [
    {
     "data": {
      "text/plain": [
       "<AxesSubplot:xlabel='channelGrouping'>"
      ]
     },
     "execution_count": 32,
     "metadata": {},
     "output_type": "execute_result"
    },
    {
     "data": {
      "image/png": "[encoded data removed]",
      "text/plain": [
       "<Figure size 432x288 with 1 Axes>"
      ]
     },
     "metadata": {
      "needs_background": "light"
     },
     "output_type": "display_data"
    }
   ],
   "source": [
    "query3 = \"\"\"\n",
    "    SELECT channelGrouping, COUNT(*) AS channelGroupingCount\n",
    "    FROM `apprenticeship-299321.sample_data.datatable`\n",
    "    GROUP BY channelGrouping\n",
    "    ORDER BY channelGroupingCount ASC\n",
    "\"\"\"\n",
    "df = pd.read_gbq(query3, project_id=project_id, dialect='standard', credentials=credentials)\n",
    "df.plot.bar(x='channelGrouping', y='channelGroupingCount')"
   ]
  },
  {
   "cell_type": "code",
   "execution_count": 33,
   "metadata": {},
   "outputs": [],
   "source": [
    "def runQuery(queryName):\n",
    "    query = pd.read_gbq(queryName, project_id=project_id, dialect='standard', credentials=credentials)\n",
    "    print(query)\n",
    "    return query"
   ]
  },
  {
   "cell_type": "code",
   "execution_count": 44,
   "metadata": {},
   "outputs": [
    {
     "name": "stdout",
     "output_type": "stream",
     "text": [
      "         date  numberOf\n",
      "0    20170101        30\n",
      "1    20170102        30\n",
      "2    20170103        30\n",
      "3    20170104        30\n",
      "4    20170105        30\n",
      "..        ...       ...\n",
      "500  20180516        33\n",
      "501  20180517        33\n",
      "502  20180518        34\n",
      "503  20180519        34\n",
      "504  20180520        34\n",
      "\n",
      "[505 rows x 2 columns]\n"
     ]
    },
    {
     "data": {
      "text/plain": [
       "<AxesSubplot:xlabel='date'>"
      ]
     },
     "execution_count": 44,
     "metadata": {},
     "output_type": "execute_result"
    },
    {
     "data": {
      "image/png": "[encoded data removed]",
      "text/plain": [
       "<Figure size 432x288 with 1 Axes>"
      ]
     },
     "metadata": {
      "needs_background": "light"
     },
     "output_type": "display_data"
    }
   ],
   "source": [
    "# um, what is this supposed to tell us?\n",
    "# TODO: revisit this\n",
    "query4 = \"\"\"\n",
    "    SELECT date, COUNT(*) as numberOf\n",
    "    FROM `apprenticeship-299321.sample_data.datatable`\n",
    "    GROUP BY date\n",
    "    ORDER BY date ASC\n",
    "\"\"\"\n",
    "runQuery(query4).plot.bar(x='date', y='numberOf')"
   ]
  },
  {
   "cell_type": "code",
   "execution_count": null,
   "metadata": {},
   "outputs": [],
   "source": [
    "# this is rounded to 1 decimal place, while other data is rounded to 4 -\n",
    "# this is because ideally I'd have used significant figures\n",
    "query5 = \"\"\"\n",
    "    SELECT deviceCategory, ROUND(AVG(conversions), 1) as averageConversionsPerDeviceCategory\n",
    "    FROM `apprenticeship-299321.sample_data.datatable`\n",
    "    GROUP BY deviceCategory\n",
    "    ORDER BY averageConversionsPerDeviceCategory\n",
    "\"\"\"\n",
    "# runQuery(query5).plot.bar(x='deviceCategory', y='averageConversionsPerDeviceCategory')\n",
    "runQuery(query5).plot.pie(y='averageConversionsPerDeviceCategory', colors=['#FFC6FF', '#CAFFBF', '#FFD6A5'])\n",
    "# runQuery(query5).plot.pie(y='averageConversionsPerDeviceCategory', colors=['#A40E4C', '#F49D6E', '#260312'])"
   ]
  },
  {
   "cell_type": "code",
   "execution_count": 36,
   "metadata": {},
   "outputs": [
    {
     "name": "stdout",
     "output_type": "stream",
     "text": [
      "  deviceCategory  conversionRatePerDeviceCategory\n",
      "0         mobile                           0.0261\n",
      "1        desktop                           0.0430\n",
      "2         tablet                           0.0551\n"
     ]
    },
    {
     "data": {
      "text/plain": [
       "<AxesSubplot:xlabel='deviceCategory'>"
      ]
     },
     "execution_count": 36,
     "metadata": {},
     "output_type": "execute_result"
    },
    {
     "data": {
      "image/png": "[encoded data removed]",
      "text/plain": [
       "<Figure size 432x288 with 1 Axes>"
      ]
     },
     "metadata": {
      "needs_background": "light"
     },
     "output_type": "display_data"
    }
   ],
   "source": [
    "query6 = \"\"\"\n",
    "    SELECT deviceCategory, ROUND((AVG(conversions))/(AVG(sessions)), 4) as conversionRatePerDeviceCategory\n",
    "    FROM `apprenticeship-299321.sample_data.datatable`\n",
    "    GROUP BY deviceCategory\n",
    "    ORDER BY conversionRatePerDeviceCategory\n",
    "\"\"\"\n",
    "runQuery(query6).plot.bar(x='deviceCategory', y='conversionRatePerDeviceCategory')"
   ]
  },
  {
   "cell_type": "code",
   "execution_count": 55,
   "metadata": {},
   "outputs": [
    {
     "name": "stdout",
     "output_type": "stream",
     "text": [
      "     channelGrouping  conversionRatePerChannelGrouping\n",
      "0             Social                            0.0287\n",
      "1            (Other)                            0.0344\n",
      "2         Newsletter                            0.0350\n",
      "3        Paid Search                            0.0350\n",
      "4             Direct                            0.0354\n",
      "5              Email                            0.0357\n",
      "6        Aggregators                            0.0358\n",
      "7       Email alerts                            0.0358\n",
      "8     Organic Search                            0.0368\n",
      "9           Referral                            0.0370\n",
      "10       Retargeting                            0.0387\n",
      "11  Partner referral                            0.0399\n",
      "12           Display                            0.0444\n"
     ]
    },
    {
     "data": {
      "text/plain": [
       "<AxesSubplot:xlabel='channelGrouping'>"
      ]
     },
     "execution_count": 55,
     "metadata": {},
     "output_type": "execute_result"
    },
    {
     "data": {
      "image/png": "[encoded data removed]",
      "text/plain": [
       "<Figure size 432x288 with 1 Axes>"
      ]
     },
     "metadata": {
      "needs_background": "light"
     },
     "output_type": "display_data"
    }
   ],
   "source": [
    "query7 = \"\"\"\n",
    "    SELECT channelGrouping, ROUND((AVG(conversions))/(AVG(sessions)), 4) as conversionRatePerChannelGrouping\n",
    "    FROM `apprenticeship-299321.sample_data.datatable`\n",
    "    GROUP BY channelGrouping\n",
    "    ORDER BY conversionRatePerChannelGrouping\n",
    "\"\"\"\n",
    "runQuery(query7).plot.bar(x='channelGrouping', y='conversionRatePerChannelGrouping', color=['#FFADAD', '#FFD6A5', '#FDFFB6', '#CAFFBF', '#9BF6FF', '#A0C4FF', '#BDB2FF', '#FFC6FF'])\n",
    "# , colors=['#FFADAD', '#FFD6A5', '#FDFFB6', '#CAFFBF', '#9BF6FF', '#A0C4FF', '#BDB2FF', '#FFC6FF']\n"
   ]
  },
  {
   "cell_type": "code",
   "execution_count": 38,
   "metadata": {},
   "outputs": [
    {
     "name": "stdout",
     "output_type": "stream",
     "text": [
      "         date  conversionRate\n",
      "0    20170101          0.0313\n",
      "1    20170102          0.0308\n",
      "2    20170103          0.0372\n",
      "3    20170104          0.0317\n",
      "4    20170105          0.0400\n",
      "..        ...             ...\n",
      "500  20180516          0.0399\n",
      "501  20180517          0.0345\n",
      "502  20180518          0.0390\n",
      "503  20180519          0.0342\n",
      "504  20180520          0.0382\n",
      "\n",
      "[505 rows x 2 columns]\n"
     ]
    },
    {
     "data": {
      "text/plain": [
       "<AxesSubplot:xlabel='date'>"
      ]
     },
     "execution_count": 38,
     "metadata": {},
     "output_type": "execute_result"
    },
    {
     "data": {
      "image/png": "[encoded data removed]",
      "text/plain": [
       "<Figure size 432x288 with 1 Axes>"
      ]
     },
     "metadata": {
      "needs_background": "light"
     },
     "output_type": "display_data"
    }
   ],
   "source": [
    "query8 = \"\"\"\n",
    "    SELECT date, ROUND((AVG(conversions))/(AVG(sessions)), 4) as conversionRate\n",
    "    FROM `apprenticeship-299321.sample_data.datatable`\n",
    "    GROUP BY date\n",
    "    ORDER BY date ASC\n",
    "\"\"\"\n",
    "runQuery(query8).plot.line(x='date', y='conversionRate')\n",
    "# TODO: revisit - date is an integer, so this doesn't show up properly"
   ]
  },
  {
   "cell_type": "code",
   "execution_count": 39,
   "metadata": {},
   "outputs": [
    {
     "name": "stdout",
     "output_type": "stream",
     "text": [
      "         date  totalSessions\n",
      "0    20170101          17367\n",
      "1    20170102          27842\n",
      "2    20170103          42792\n",
      "3    20170104          42956\n",
      "4    20170105          43019\n",
      "..        ...            ...\n",
      "500  20180516          32012\n",
      "501  20180517          26716\n",
      "502  20180518          22831\n",
      "503  20180519          14260\n",
      "504  20180520          17993\n",
      "\n",
      "[505 rows x 2 columns]\n"
     ]
    },
    {
     "data": {
      "text/plain": [
       "<AxesSubplot:xlabel='date'>"
      ]
     },
     "execution_count": 39,
     "metadata": {},
     "output_type": "execute_result"
    },
    {
     "data": {
      "image/png": "[encoded data removed]",
      "text/plain": [
       "<Figure size 432x288 with 1 Axes>"
      ]
     },
     "metadata": {
      "needs_background": "light"
     },
     "output_type": "display_data"
    }
   ],
   "source": [
    "query9 = \"\"\"\n",
    "    SELECT date, SUM(sessions) as totalSessions\n",
    "    FROM `apprenticeship-299321.sample_data.datatable`\n",
    "    GROUP BY date\n",
    "    ORDER BY date ASC\n",
    "\"\"\"\n",
    "runQuery(query9).plot.bar(x='date', y='totalSessions')\n",
    "# TODO: revisit - bar graphs treat the date axis in a more logical way, but really it should be a line graph"
   ]
  },
  {
   "cell_type": "code",
   "execution_count": 41,
   "metadata": {},
   "outputs": [
    {
     "name": "stdout",
     "output_type": "stream",
     "text": [
      "         date  totalConversions\n",
      "0    20170101               544\n",
      "1    20170102               857\n",
      "2    20170103              1590\n",
      "3    20170104              1361\n",
      "4    20170105              1719\n",
      "..        ...               ...\n",
      "500  20180516              1278\n",
      "501  20180517               922\n",
      "502  20180518               891\n",
      "503  20180519               488\n",
      "504  20180520               688\n",
      "\n",
      "[505 rows x 2 columns]\n"
     ]
    },
    {
     "data": {
      "text/plain": [
       "<AxesSubplot:xlabel='date'>"
      ]
     },
     "execution_count": 41,
     "metadata": {},
     "output_type": "execute_result"
    },
    {
     "data": {
      "image/png": "[encoded data removed]",
      "text/plain": [
       "<Figure size 432x288 with 1 Axes>"
      ]
     },
     "metadata": {
      "needs_background": "light"
     },
     "output_type": "display_data"
    }
   ],
   "source": [
    "query10 = \"\"\"\n",
    "    SELECT date, SUM(conversions) as totalConversions\n",
    "    FROM `apprenticeship-299321.sample_data.datatable`\n",
    "    GROUP BY date\n",
    "    ORDER BY date ASC\n",
    "\"\"\"\n",
    "runQuery(query10).plot.bar(x='date', y='totalConversions')"
   ]
  },
  {
   "cell_type": "code",
   "execution_count": null,
   "metadata": {},
   "outputs": [],
   "source": []
  }
 ],
 "metadata": {
  "kernelspec": {
   "display_name": "Python 3",
   "language": "python",
   "name": "python3"
  },
  "language_info": {
   "codemirror_mode": {
    "name": "ipython",
    "version": 3
   },
   "file_extension": ".py",
   "mimetype": "text/x-python",
   "name": "python",
   "nbconvert_exporter": "python",
   "pygments_lexer": "ipython3",
   "version": "3.8.5"
  }
 },
 "nbformat": 4,
 "nbformat_minor": 4
}
