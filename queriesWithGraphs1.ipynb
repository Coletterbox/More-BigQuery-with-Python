{
 "cells": [
  {
   "cell_type": "code",
   "execution_count": 1,
   "metadata": {},
   "outputs": [],
   "source": [
    "%load_ext google.cloud.bigquery"
   ]
  },
  {
   "cell_type": "code",
   "execution_count": 2,
   "metadata": {},
   "outputs": [],
   "source": [
    "# import os\n",
    "# os.environ['GOOGLE_APPLICATION_CREDENTIALS'] ='/Users/colette/Documents/GitHub/More-BigQuery-with-Python/ApprenticeshipOAuth.json'"
   ]
  },
  {
   "cell_type": "code",
   "execution_count": 3,
   "metadata": {},
   "outputs": [],
   "source": [
    "# %%bigquery\n",
    "# SELECT * FROM `apprenticeship-299321.sample_data.datatable`\n",
    "# LIMIT 10"
   ]
  },
  {
   "cell_type": "code",
   "execution_count": 27,
   "metadata": {},
   "outputs": [],
   "source": [
    "# from google.oauth2 import service_account\n",
    "# import pandas_gbq\n",
    "\n",
    "# credentials = service_account.Credentials.from_service_account_file(\n",
    "#     '/Users/colette/Documents/GitHub/More-BigQuery-with-Python/ApprenticeshipOAuth.json',\n",
    "# )\n",
    "# df = pandas_gbq.read_gbq(sql, project_id=\"apprenticeship-299321\", credentials=credentials)"
   ]
  },
  {
   "cell_type": "code",
   "execution_count": 5,
   "metadata": {},
   "outputs": [],
   "source": [
    "# from google.oauth2 import service_account\n",
    "\n",
    "# SCOPES = ['https://www.googleapis.com/auth/sqlservice.admin']\n",
    "# SERVICE_ACCOUNT_FILE = '/Users/colette/Documents/GitHub/More-BigQuery-with-Python/ApprenticeshipOAuth.json'\n",
    "\n",
    "# credentials = service_account.Credentials.from_service_account_file(\n",
    "#         SERVICE_ACCOUNT_FILE, scopes=SCOPES)"
   ]
  },
  {
   "cell_type": "code",
   "execution_count": 6,
   "metadata": {},
   "outputs": [],
   "source": [
    "# import httplib2\n",
    "\n",
    "# from oauth2client.client import flow_from_clientsecrets\n",
    "# from oauth2client.file import Storage\n",
    "# from oauth2client.tools import run_flow\n",
    "\n",
    "# CLIENT_SECRET = '/Users/colette/Documents/GitHub/More-BigQuery-with-Python/ApprenticeshipOAuth.json'\n",
    "# SCOPE = 'https://www.googleapis.com/auth/spreadsheets.readonly'\n",
    "# STORAGE = Storage('credentials.storage')\n",
    "\n",
    "# # Start the OAuth flow to retrieve credentials\n",
    "# def authorize_credentials():\n",
    "# # Fetch credentials from storage\n",
    "#     credentials = STORAGE.get()\n",
    "# # If the credentials doesn't exist in the storage location then run the flow\n",
    "#     if credentials is None or credentials.invalid:\n",
    "#         flow = flow_from_clientsecrets(CLIENT_SECRET, scope=SCOPE)\n",
    "#         http = httplib2.Http()\n",
    "#         credentials = run_flow(flow, STORAGE, http=http)\n",
    "#     return credentials\n",
    "# credentials = authorize_credentials()"
   ]
  },
  {
   "cell_type": "markdown",
   "metadata": {},
   "source": [
    "I think I keep trying to use methods which accept \"service account key\", rather than \"OAuth client ID\"."
   ]
  },
  {
   "cell_type": "code",
   "execution_count": 7,
   "metadata": {},
   "outputs": [],
   "source": [
    "import pydata_google_auth\n",
    "credentials = pydata_google_auth.get_user_credentials(\n",
    "    ['https://www.googleapis.com/auth/bigquery'],\n",
    ")"
   ]
  },
  {
   "cell_type": "code",
   "execution_count": 8,
   "metadata": {},
   "outputs": [],
   "source": [
    "query = \"\"\"\n",
    "    SELECT * FROM `apprenticeship-299321.sample_data.datatable`\n",
    "    LIMIT 10\n",
    "\"\"\"\n",
    "project_id = 'apprenticeship-299321'"
   ]
  },
  {
   "cell_type": "code",
   "execution_count": 9,
   "metadata": {},
   "outputs": [
    {
     "data": {
      "text/html": [
       "<div>\n",
       "<style scoped>\n",
       "    .dataframe tbody tr th:only-of-type {\n",
       "        vertical-align: middle;\n",
       "    }\n",
       "\n",
       "    .dataframe tbody tr th {\n",
       "        vertical-align: top;\n",
       "    }\n",
       "\n",
       "    .dataframe thead th {\n",
       "        text-align: right;\n",
       "    }\n",
       "</style>\n",
       "<table border=\"1\" class=\"dataframe\">\n",
       "  <thead>\n",
       "    <tr style=\"text-align: right;\">\n",
       "      <th></th>\n",
       "      <th>date</th>\n",
       "      <th>channelGrouping</th>\n",
       "      <th>deviceCategory</th>\n",
       "      <th>sessions</th>\n",
       "      <th>conversions</th>\n",
       "    </tr>\n",
       "  </thead>\n",
       "  <tbody>\n",
       "    <tr>\n",
       "      <th>0</th>\n",
       "      <td>20180324</td>\n",
       "      <td>Email</td>\n",
       "      <td>mobile</td>\n",
       "      <td>32</td>\n",
       "      <td>0</td>\n",
       "    </tr>\n",
       "    <tr>\n",
       "      <th>1</th>\n",
       "      <td>20180518</td>\n",
       "      <td>Email</td>\n",
       "      <td>mobile</td>\n",
       "      <td>31</td>\n",
       "      <td>0</td>\n",
       "    </tr>\n",
       "    <tr>\n",
       "      <th>2</th>\n",
       "      <td>20180415</td>\n",
       "      <td>Email</td>\n",
       "      <td>mobile</td>\n",
       "      <td>29</td>\n",
       "      <td>0</td>\n",
       "    </tr>\n",
       "    <tr>\n",
       "      <th>3</th>\n",
       "      <td>20171206</td>\n",
       "      <td>Email</td>\n",
       "      <td>mobile</td>\n",
       "      <td>28</td>\n",
       "      <td>0</td>\n",
       "    </tr>\n",
       "    <tr>\n",
       "      <th>4</th>\n",
       "      <td>20180329</td>\n",
       "      <td>Email</td>\n",
       "      <td>mobile</td>\n",
       "      <td>27</td>\n",
       "      <td>0</td>\n",
       "    </tr>\n",
       "    <tr>\n",
       "      <th>5</th>\n",
       "      <td>20171227</td>\n",
       "      <td>Email</td>\n",
       "      <td>mobile</td>\n",
       "      <td>25</td>\n",
       "      <td>0</td>\n",
       "    </tr>\n",
       "    <tr>\n",
       "      <th>6</th>\n",
       "      <td>20180421</td>\n",
       "      <td>Email</td>\n",
       "      <td>mobile</td>\n",
       "      <td>24</td>\n",
       "      <td>0</td>\n",
       "    </tr>\n",
       "    <tr>\n",
       "      <th>7</th>\n",
       "      <td>20180127</td>\n",
       "      <td>Email</td>\n",
       "      <td>desktop</td>\n",
       "      <td>22</td>\n",
       "      <td>0</td>\n",
       "    </tr>\n",
       "    <tr>\n",
       "      <th>8</th>\n",
       "      <td>20170706</td>\n",
       "      <td>Email</td>\n",
       "      <td>mobile</td>\n",
       "      <td>20</td>\n",
       "      <td>0</td>\n",
       "    </tr>\n",
       "    <tr>\n",
       "      <th>9</th>\n",
       "      <td>20180519</td>\n",
       "      <td>Email</td>\n",
       "      <td>desktop</td>\n",
       "      <td>19</td>\n",
       "      <td>0</td>\n",
       "    </tr>\n",
       "  </tbody>\n",
       "</table>\n",
       "</div>"
      ],
      "text/plain": [
       "       date channelGrouping deviceCategory  sessions  conversions\n",
       "0  20180324           Email         mobile        32            0\n",
       "1  20180518           Email         mobile        31            0\n",
       "2  20180415           Email         mobile        29            0\n",
       "3  20171206           Email         mobile        28            0\n",
       "4  20180329           Email         mobile        27            0\n",
       "5  20171227           Email         mobile        25            0\n",
       "6  20180421           Email         mobile        24            0\n",
       "7  20180127           Email        desktop        22            0\n",
       "8  20170706           Email         mobile        20            0\n",
       "9  20180519           Email        desktop        19            0"
      ]
     },
     "execution_count": 9,
     "metadata": {},
     "output_type": "execute_result"
    }
   ],
   "source": [
    "import pandas as pd\n",
    "df = pd.read_gbq(query, project_id=project_id, dialect='standard', credentials=credentials)\n",
    "df"
   ]
  },
  {
   "cell_type": "code",
   "execution_count": 25,
   "metadata": {},
   "outputs": [],
   "source": [
    "# %%bigquery\n",
    "# SELECT * FROM `apprenticeship-299321.sample_data.datatable`\n",
    "# LIMIT 10"
   ]
  },
  {
   "cell_type": "code",
   "execution_count": null,
   "metadata": {},
   "outputs": [],
   "source": [
    "testQuery1 = \"\"\"\n",
    "    SELECT * FROM `apprenticeship-299321.sample_data.datatable`\n",
    "    LIMIT 100\n",
    "\"\"\"\n",
    "df = pd.read_gbq(testQuery1, project_id=project_id, dialect='standard', credentials=credentials)\n",
    "df"
   ]
  },
  {
   "cell_type": "markdown",
   "metadata": {},
   "source": [
    "## All data (chronological):\n",
    "(TODO: add titles for other cells)"
   ]
  },
  {
   "cell_type": "code",
   "execution_count": null,
   "metadata": {},
   "outputs": [],
   "source": [
    "query0 = \"\"\"\n",
    "    SELECT * FROM `apprenticeship-299321.sample_data.datatable`\n",
    "    ORDER BY date ASC\n",
    "\"\"\"\n",
    "df = pd.read_gbq(query0, project_id=project_id, dialect='standard', credentials=credentials)\n",
    "df"
   ]
  },
  {
   "cell_type": "code",
   "execution_count": null,
   "metadata": {},
   "outputs": [],
   "source": [
    "# skip this because it's unnecessary...\n",
    "\n",
    "# query1 = \"\"\"\n",
    "#     SELECT COUNT(*) FROM `apprenticeship-299321.sample_data.datatable`\n",
    "# \"\"\"\n",
    "# df = pd.read_gbq(query1, project_id=project_id, dialect='standard', credentials=credentials)\n",
    "# df"
   ]
  },
  {
   "cell_type": "code",
   "execution_count": 30,
   "metadata": {},
   "outputs": [
    {
     "data": {
      "text/plain": [
       "<AxesSubplot:xlabel='deviceCategory'>"
      ]
     },
     "execution_count": 30,
     "metadata": {},
     "output_type": "execute_result"
    },
    {
     "data": {
      "image/png": "[encoded data removed]",
      "text/plain": [
       "<Figure size 432x288 with 1 Axes>"
      ]
     },
     "metadata": {
      "needs_background": "light"
     },
     "output_type": "display_data"
    }
   ],
   "source": [
    "query2 = \"\"\"\n",
    "    SELECT deviceCategory, COUNT(*) AS deviceCategoryCount\n",
    "    FROM `apprenticeship-299321.sample_data.datatable`\n",
    "    GROUP BY deviceCategory\n",
    "    ORDER BY deviceCategoryCount ASC\n",
    "\"\"\"\n",
    "df = pd.read_gbq(query2, project_id=project_id, dialect='standard', credentials=credentials)\n",
    "df.plot.line(x='deviceCategory', y='deviceCategoryCount')"
   ]
  },
  {
   "cell_type": "code",
   "execution_count": 12,
   "metadata": {},
   "outputs": [
    {
     "data": {
      "text/html": [
       "<div>\n",
       "<style scoped>\n",
       "    .dataframe tbody tr th:only-of-type {\n",
       "        vertical-align: middle;\n",
       "    }\n",
       "\n",
       "    .dataframe tbody tr th {\n",
       "        vertical-align: top;\n",
       "    }\n",
       "\n",
       "    .dataframe thead th {\n",
       "        text-align: right;\n",
       "    }\n",
       "</style>\n",
       "<table border=\"1\" class=\"dataframe\">\n",
       "  <thead>\n",
       "    <tr style=\"text-align: right;\">\n",
       "      <th></th>\n",
       "      <th>channelGrouping</th>\n",
       "      <th>channelGroupingCount</th>\n",
       "    </tr>\n",
       "  </thead>\n",
       "  <tbody>\n",
       "    <tr>\n",
       "      <th>0</th>\n",
       "      <td>Newsletter</td>\n",
       "      <td>503</td>\n",
       "    </tr>\n",
       "    <tr>\n",
       "      <th>1</th>\n",
       "      <td>Partner referral</td>\n",
       "      <td>503</td>\n",
       "    </tr>\n",
       "    <tr>\n",
       "      <th>2</th>\n",
       "      <td>Email alerts</td>\n",
       "      <td>516</td>\n",
       "    </tr>\n",
       "    <tr>\n",
       "      <th>3</th>\n",
       "      <td>Retargeting</td>\n",
       "      <td>1085</td>\n",
       "    </tr>\n",
       "    <tr>\n",
       "      <th>4</th>\n",
       "      <td>Display</td>\n",
       "      <td>1216</td>\n",
       "    </tr>\n",
       "    <tr>\n",
       "      <th>5</th>\n",
       "      <td>Email</td>\n",
       "      <td>1475</td>\n",
       "    </tr>\n",
       "    <tr>\n",
       "      <th>6</th>\n",
       "      <td>(Other)</td>\n",
       "      <td>1491</td>\n",
       "    </tr>\n",
       "    <tr>\n",
       "      <th>7</th>\n",
       "      <td>Social</td>\n",
       "      <td>1501</td>\n",
       "    </tr>\n",
       "    <tr>\n",
       "      <th>8</th>\n",
       "      <td>Aggregators</td>\n",
       "      <td>1501</td>\n",
       "    </tr>\n",
       "    <tr>\n",
       "      <th>9</th>\n",
       "      <td>Paid Search</td>\n",
       "      <td>1511</td>\n",
       "    </tr>\n",
       "    <tr>\n",
       "      <th>10</th>\n",
       "      <td>Direct</td>\n",
       "      <td>1515</td>\n",
       "    </tr>\n",
       "    <tr>\n",
       "      <th>11</th>\n",
       "      <td>Referral</td>\n",
       "      <td>1515</td>\n",
       "    </tr>\n",
       "    <tr>\n",
       "      <th>12</th>\n",
       "      <td>Organic Search</td>\n",
       "      <td>1515</td>\n",
       "    </tr>\n",
       "  </tbody>\n",
       "</table>\n",
       "</div>"
      ],
      "text/plain": [
       "     channelGrouping  channelGroupingCount\n",
       "0         Newsletter                   503\n",
       "1   Partner referral                   503\n",
       "2       Email alerts                   516\n",
       "3        Retargeting                  1085\n",
       "4            Display                  1216\n",
       "5              Email                  1475\n",
       "6            (Other)                  1491\n",
       "7             Social                  1501\n",
       "8        Aggregators                  1501\n",
       "9        Paid Search                  1511\n",
       "10            Direct                  1515\n",
       "11          Referral                  1515\n",
       "12    Organic Search                  1515"
      ]
     },
     "execution_count": 12,
     "metadata": {},
     "output_type": "execute_result"
    }
   ],
   "source": [
    "query3 = \"\"\"\n",
    "    SELECT channelGrouping, COUNT(*) AS channelGroupingCount\n",
    "    FROM `apprenticeship-299321.sample_data.datatable`\n",
    "    GROUP BY channelGrouping\n",
    "    ORDER BY channelGroupingCount ASC\n",
    "\"\"\"\n",
    "df = pd.read_gbq(query3, project_id=project_id, dialect='standard', credentials=credentials)\n",
    "df"
   ]
  },
  {
   "cell_type": "code",
   "execution_count": 13,
   "metadata": {},
   "outputs": [],
   "source": [
    "def runQuery(queryName):\n",
    "    query = pd.read_gbq(queryName, project_id=project_id, dialect='standard', credentials=credentials)\n",
    "    print(query) "
   ]
  },
  {
   "cell_type": "code",
   "execution_count": 14,
   "metadata": {},
   "outputs": [
    {
     "name": "stdout",
     "output_type": "stream",
     "text": [
      "         date  f0_\n",
      "0    20170101   30\n",
      "1    20170102   30\n",
      "2    20170103   30\n",
      "3    20170104   30\n",
      "4    20170105   30\n",
      "..        ...  ...\n",
      "500  20180516   33\n",
      "501  20180517   33\n",
      "502  20180518   34\n",
      "503  20180519   34\n",
      "504  20180520   34\n",
      "\n",
      "[505 rows x 2 columns]\n"
     ]
    }
   ],
   "source": [
    "# um, what is this supposed to tell us?\n",
    "# TODO: revisit this\n",
    "query4 = \"\"\"\n",
    "    SELECT date, COUNT(*)\n",
    "    FROM `apprenticeship-299321.sample_data.datatable`\n",
    "    GROUP BY date\n",
    "    ORDER BY date ASC\n",
    "\"\"\"\n",
    "runQuery(query4)"
   ]
  },
  {
   "cell_type": "code",
   "execution_count": 15,
   "metadata": {},
   "outputs": [
    {
     "name": "stdout",
     "output_type": "stream",
     "text": [
      "  deviceCategory  averageConversionsPerDeviceCategory\n",
      "0         tablet                                 20.4\n",
      "1         mobile                                 38.6\n",
      "2        desktop                                 53.7\n"
     ]
    }
   ],
   "source": [
    "# this is rounded to 1 decimal place, while other data is rounded to 4 -\n",
    "# this is because ideally I'd have used significant figures\n",
    "query5 = \"\"\"\n",
    "    SELECT deviceCategory, ROUND(AVG(conversions), 1) as averageConversionsPerDeviceCategory\n",
    "    FROM `apprenticeship-299321.sample_data.datatable`\n",
    "    GROUP BY deviceCategory\n",
    "    ORDER BY averageConversionsPerDeviceCategory\n",
    "\"\"\"\n",
    "runQuery(query5)"
   ]
  },
  {
   "cell_type": "code",
   "execution_count": 16,
   "metadata": {},
   "outputs": [
    {
     "name": "stdout",
     "output_type": "stream",
     "text": [
      "  deviceCategory  conversionRatePerDeviceCategory\n",
      "0         mobile                           0.0261\n",
      "1        desktop                           0.0430\n",
      "2         tablet                           0.0551\n"
     ]
    }
   ],
   "source": [
    "query6 = \"\"\"\n",
    "    SELECT deviceCategory, ROUND((AVG(conversions))/(AVG(sessions)), 4) as conversionRatePerDeviceCategory\n",
    "    FROM `apprenticeship-299321.sample_data.datatable`\n",
    "    GROUP BY deviceCategory\n",
    "    ORDER BY conversionRatePerDeviceCategory\n",
    "\"\"\"\n",
    "runQuery(query6)"
   ]
  },
  {
   "cell_type": "code",
   "execution_count": 17,
   "metadata": {},
   "outputs": [
    {
     "name": "stdout",
     "output_type": "stream",
     "text": [
      "     channelGrouping  conversionRatePerChannelGrouping\n",
      "0             Social                            0.0287\n",
      "1            (Other)                            0.0344\n",
      "2         Newsletter                            0.0350\n",
      "3        Paid Search                            0.0350\n",
      "4             Direct                            0.0354\n",
      "5              Email                            0.0357\n",
      "6        Aggregators                            0.0358\n",
      "7       Email alerts                            0.0358\n",
      "8     Organic Search                            0.0368\n",
      "9           Referral                            0.0370\n",
      "10       Retargeting                            0.0387\n",
      "11  Partner referral                            0.0399\n",
      "12           Display                            0.0444\n"
     ]
    }
   ],
   "source": [
    "query7 = \"\"\"\n",
    "    SELECT channelGrouping, ROUND((AVG(conversions))/(AVG(sessions)), 4) as conversionRatePerChannelGrouping\n",
    "    FROM `apprenticeship-299321.sample_data.datatable`\n",
    "    GROUP BY channelGrouping\n",
    "    ORDER BY conversionRatePerChannelGrouping\n",
    "\"\"\"\n",
    "runQuery(query7)"
   ]
  },
  {
   "cell_type": "code",
   "execution_count": 18,
   "metadata": {},
   "outputs": [
    {
     "name": "stdout",
     "output_type": "stream",
     "text": [
      "         date  conversionRate\n",
      "0    20170101          0.0313\n",
      "1    20170102          0.0308\n",
      "2    20170103          0.0372\n",
      "3    20170104          0.0317\n",
      "4    20170105          0.0400\n",
      "..        ...             ...\n",
      "500  20180516          0.0399\n",
      "501  20180517          0.0345\n",
      "502  20180518          0.0390\n",
      "503  20180519          0.0342\n",
      "504  20180520          0.0382\n",
      "\n",
      "[505 rows x 2 columns]\n"
     ]
    }
   ],
   "source": [
    "query8 = \"\"\"\n",
    "    SELECT date, ROUND((AVG(conversions))/(AVG(sessions)), 4) as conversionRate\n",
    "    FROM `apprenticeship-299321.sample_data.datatable`\n",
    "    GROUP BY date\n",
    "    ORDER BY date ASC\n",
    "\"\"\"\n",
    "runQuery(query8)"
   ]
  },
  {
   "cell_type": "code",
   "execution_count": 19,
   "metadata": {},
   "outputs": [
    {
     "name": "stdout",
     "output_type": "stream",
     "text": [
      "         date  totalSessions\n",
      "0    20170101          17367\n",
      "1    20170102          27842\n",
      "2    20170103          42792\n",
      "3    20170104          42956\n",
      "4    20170105          43019\n",
      "..        ...            ...\n",
      "500  20180516          32012\n",
      "501  20180517          26716\n",
      "502  20180518          22831\n",
      "503  20180519          14260\n",
      "504  20180520          17993\n",
      "\n",
      "[505 rows x 2 columns]\n"
     ]
    }
   ],
   "source": [
    "query9 = \"\"\"\n",
    "    SELECT date, SUM(sessions) as totalSessions\n",
    "    FROM `apprenticeship-299321.sample_data.datatable`\n",
    "    GROUP BY date\n",
    "    ORDER BY date ASC\n",
    "\"\"\"\n",
    "runQuery(query9)"
   ]
  },
  {
   "cell_type": "code",
   "execution_count": 20,
   "metadata": {},
   "outputs": [],
   "source": [
    "# %load_ext sql"
   ]
  },
  {
   "cell_type": "code",
   "execution_count": 28,
   "metadata": {},
   "outputs": [
    {
     "name": "stdout",
     "output_type": "stream",
     "text": [
      "         date  totalConversions\n",
      "0    20170101               544\n",
      "1    20170102               857\n",
      "2    20170103              1590\n",
      "3    20170104              1361\n",
      "4    20170105              1719\n",
      "..        ...               ...\n",
      "500  20180516              1278\n",
      "501  20180517               922\n",
      "502  20180518               891\n",
      "503  20180519               488\n",
      "504  20180520               688\n",
      "\n",
      "[505 rows x 2 columns]\n"
     ]
    }
   ],
   "source": [
    "# %%bigquery\n",
    "query10 = \"\"\"\n",
    "    SELECT date, SUM(conversions) as totalConversions\n",
    "    FROM `apprenticeship-299321.sample_data.datatable`\n",
    "    GROUP BY date\n",
    "    ORDER BY date ASC\n",
    "\"\"\"\n",
    "runQuery(query10)\n",
    "# result10 = %sql $query10"
   ]
  },
  {
   "cell_type": "code",
   "execution_count": 40,
   "metadata": {},
   "outputs": [],
   "source": [
    "# %matplotlib inline"
   ]
  },
  {
   "cell_type": "code",
   "execution_count": null,
   "metadata": {},
   "outputs": [],
   "source": []
  }
 ],
 "metadata": {
  "kernelspec": {
   "display_name": "Python 3",
   "language": "python",
   "name": "python3"
  },
  "language_info": {
   "codemirror_mode": {
    "name": "ipython",
    "version": 3
   },
   "file_extension": ".py",
   "mimetype": "text/x-python",
   "name": "python",
   "nbconvert_exporter": "python",
   "pygments_lexer": "ipython3",
   "version": "3.8.5"
  }
 },
 "nbformat": 4,
 "nbformat_minor": 4
}
