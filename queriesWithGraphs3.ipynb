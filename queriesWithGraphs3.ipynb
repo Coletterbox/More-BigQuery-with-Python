{
 "cells": [
  {
   "cell_type": "code",
   "execution_count": 18,
   "metadata": {},
   "outputs": [],
   "source": [
    "import matplotlib.pyplot as plot\n",
    "import matplotlib.dates as dates\n",
    "import pydata_google_auth\n",
    "import pandas as pd\n",
    "from google.cloud import bigquery\n",
    "\n",
    "credentials = pydata_google_auth.get_user_credentials(\n",
    "    ['https://www.googleapis.com/auth/bigquery'],\n",
    ")\n",
    "project_id = 'apprenticeship-299321'\n",
    "# hardcoding the pie chart keys and manually setting the colours to be consistent is really not the way I'd like to handle this\n",
    "threeColorsArray = ['#FFC6FF', '#CAFFBF', '#FFD6A5'] # tablet, desktop, mobile\n",
    "threeColorsArray1 = ['#FFC6FF', '#FFD6A5', '#CAFFBF'] # tablet, mobile, desktop\n",
    "threeColorsArray2 = ['#FFD6A5', '#CAFFBF', '#FFC6FF'] # mobile, desktop, tablet\n",
    "rainbowArray = ['#FFADAD', '#FFD6A5', '#FDFFB6', '#CAFFBF', '#9BF6FF', '#A0C4FF', '#BDB2FF', '#FFC6FF']\n",
    "singleColorArray = [\"#BDB2FF\"]\n",
    "\n",
    "def runQuery(queryName):\n",
    "    query = pd.read_gbq(queryName, project_id=project_id, dialect='standard', credentials=credentials)\n",
    "    print(query)\n",
    "    return query\n"
   ]
  },
  {
   "cell_type": "code",
   "execution_count": 85,
   "metadata": {},
   "outputs": [
    {
     "name": "stdout",
     "output_type": "stream",
     "text": [
      "        date channelGrouping deviceCategory  sessions  conversions\n",
      "0   20170101         (Other)        desktop        32            2\n",
      "1   20170101         (Other)         mobile        14            0\n",
      "2   20170101         (Other)         tablet        21            1\n",
      "3   20170101     Aggregators        desktop        23            1\n",
      "4   20170101     Aggregators         mobile        21            1\n",
      "5   20170101     Aggregators         tablet        15            1\n",
      "6   20170101          Direct        desktop       937           62\n",
      "7   20170101          Direct         mobile       983           17\n",
      "8   20170101          Direct         tablet       307           11\n",
      "9   20170101         Display        desktop       207           13\n",
      "10  20170101         Display         mobile        11            0\n",
      "11  20170101         Display         tablet       213           13\n",
      "12  20170101           Email        desktop       412           23\n",
      "13  20170101           Email         mobile       678           14\n",
      "14  20170101           Email         tablet       177            7\n",
      "15  20170101  Organic Search        desktop      2302           47\n",
      "16  20170101  Organic Search         mobile      4580          123\n",
      "17  20170101  Organic Search         tablet      1670           73\n",
      "18  20170101     Paid Search        desktop        89            4\n",
      "19  20170101     Paid Search         mobile       296           10\n",
      "20  20170101     Paid Search         tablet        91            5\n",
      "21  20170101        Referral        desktop      1434           44\n",
      "22  20170101        Referral         mobile      2025           45\n",
      "23  20170101        Referral         tablet       738           25\n",
      "24  20170101     Retargeting        desktop         2            0\n",
      "25  20170101     Retargeting         mobile         4            0\n",
      "26  20170101     Retargeting         tablet         1            0\n",
      "27  20170101          Social        desktop        12            1\n",
      "28  20170101          Social         mobile        62            1\n",
      "29  20170101          Social         tablet        10            0\n",
      "30  20170102         (Other)        desktop        57            4\n",
      "31  20170102         (Other)         mobile        21            1\n",
      "32  20170102         (Other)         tablet        22            1\n",
      "33  20170102     Aggregators        desktop        43            3\n",
      "34  20170102     Aggregators         mobile        30            1\n",
      "35  20170102     Aggregators         tablet        26            1\n",
      "36  20170102          Direct        desktop      1357           77\n",
      "37  20170102          Direct         mobile      1563           23\n",
      "38  20170102          Direct         tablet       390           29\n",
      "39  20170102         Display        desktop       253            7\n"
     ]
    },
    {
     "data": {
      "text/html": [
       "<div>\n",
       "<style scoped>\n",
       "    .dataframe tbody tr th:only-of-type {\n",
       "        vertical-align: middle;\n",
       "    }\n",
       "\n",
       "    .dataframe tbody tr th {\n",
       "        vertical-align: top;\n",
       "    }\n",
       "\n",
       "    .dataframe thead th {\n",
       "        text-align: right;\n",
       "    }\n",
       "</style>\n",
       "<table border=\"1\" class=\"dataframe\">\n",
       "  <thead>\n",
       "    <tr style=\"text-align: right;\">\n",
       "      <th></th>\n",
       "      <th>date</th>\n",
       "      <th>channelGrouping</th>\n",
       "      <th>deviceCategory</th>\n",
       "      <th>sessions</th>\n",
       "      <th>conversions</th>\n",
       "    </tr>\n",
       "  </thead>\n",
       "  <tbody>\n",
       "    <tr>\n",
       "      <th>0</th>\n",
       "      <td>20170101</td>\n",
       "      <td>(Other)</td>\n",
       "      <td>desktop</td>\n",
       "      <td>32</td>\n",
       "      <td>2</td>\n",
       "    </tr>\n",
       "    <tr>\n",
       "      <th>1</th>\n",
       "      <td>20170101</td>\n",
       "      <td>(Other)</td>\n",
       "      <td>mobile</td>\n",
       "      <td>14</td>\n",
       "      <td>0</td>\n",
       "    </tr>\n",
       "    <tr>\n",
       "      <th>2</th>\n",
       "      <td>20170101</td>\n",
       "      <td>(Other)</td>\n",
       "      <td>tablet</td>\n",
       "      <td>21</td>\n",
       "      <td>1</td>\n",
       "    </tr>\n",
       "    <tr>\n",
       "      <th>3</th>\n",
       "      <td>20170101</td>\n",
       "      <td>Aggregators</td>\n",
       "      <td>desktop</td>\n",
       "      <td>23</td>\n",
       "      <td>1</td>\n",
       "    </tr>\n",
       "    <tr>\n",
       "      <th>4</th>\n",
       "      <td>20170101</td>\n",
       "      <td>Aggregators</td>\n",
       "      <td>mobile</td>\n",
       "      <td>21</td>\n",
       "      <td>1</td>\n",
       "    </tr>\n",
       "    <tr>\n",
       "      <th>5</th>\n",
       "      <td>20170101</td>\n",
       "      <td>Aggregators</td>\n",
       "      <td>tablet</td>\n",
       "      <td>15</td>\n",
       "      <td>1</td>\n",
       "    </tr>\n",
       "    <tr>\n",
       "      <th>6</th>\n",
       "      <td>20170101</td>\n",
       "      <td>Direct</td>\n",
       "      <td>desktop</td>\n",
       "      <td>937</td>\n",
       "      <td>62</td>\n",
       "    </tr>\n",
       "    <tr>\n",
       "      <th>7</th>\n",
       "      <td>20170101</td>\n",
       "      <td>Direct</td>\n",
       "      <td>mobile</td>\n",
       "      <td>983</td>\n",
       "      <td>17</td>\n",
       "    </tr>\n",
       "    <tr>\n",
       "      <th>8</th>\n",
       "      <td>20170101</td>\n",
       "      <td>Direct</td>\n",
       "      <td>tablet</td>\n",
       "      <td>307</td>\n",
       "      <td>11</td>\n",
       "    </tr>\n",
       "    <tr>\n",
       "      <th>9</th>\n",
       "      <td>20170101</td>\n",
       "      <td>Display</td>\n",
       "      <td>desktop</td>\n",
       "      <td>207</td>\n",
       "      <td>13</td>\n",
       "    </tr>\n",
       "    <tr>\n",
       "      <th>10</th>\n",
       "      <td>20170101</td>\n",
       "      <td>Display</td>\n",
       "      <td>mobile</td>\n",
       "      <td>11</td>\n",
       "      <td>0</td>\n",
       "    </tr>\n",
       "    <tr>\n",
       "      <th>11</th>\n",
       "      <td>20170101</td>\n",
       "      <td>Display</td>\n",
       "      <td>tablet</td>\n",
       "      <td>213</td>\n",
       "      <td>13</td>\n",
       "    </tr>\n",
       "    <tr>\n",
       "      <th>12</th>\n",
       "      <td>20170101</td>\n",
       "      <td>Email</td>\n",
       "      <td>desktop</td>\n",
       "      <td>412</td>\n",
       "      <td>23</td>\n",
       "    </tr>\n",
       "    <tr>\n",
       "      <th>13</th>\n",
       "      <td>20170101</td>\n",
       "      <td>Email</td>\n",
       "      <td>mobile</td>\n",
       "      <td>678</td>\n",
       "      <td>14</td>\n",
       "    </tr>\n",
       "    <tr>\n",
       "      <th>14</th>\n",
       "      <td>20170101</td>\n",
       "      <td>Email</td>\n",
       "      <td>tablet</td>\n",
       "      <td>177</td>\n",
       "      <td>7</td>\n",
       "    </tr>\n",
       "    <tr>\n",
       "      <th>15</th>\n",
       "      <td>20170101</td>\n",
       "      <td>Organic Search</td>\n",
       "      <td>desktop</td>\n",
       "      <td>2302</td>\n",
       "      <td>47</td>\n",
       "    </tr>\n",
       "    <tr>\n",
       "      <th>16</th>\n",
       "      <td>20170101</td>\n",
       "      <td>Organic Search</td>\n",
       "      <td>mobile</td>\n",
       "      <td>4580</td>\n",
       "      <td>123</td>\n",
       "    </tr>\n",
       "    <tr>\n",
       "      <th>17</th>\n",
       "      <td>20170101</td>\n",
       "      <td>Organic Search</td>\n",
       "      <td>tablet</td>\n",
       "      <td>1670</td>\n",
       "      <td>73</td>\n",
       "    </tr>\n",
       "    <tr>\n",
       "      <th>18</th>\n",
       "      <td>20170101</td>\n",
       "      <td>Paid Search</td>\n",
       "      <td>desktop</td>\n",
       "      <td>89</td>\n",
       "      <td>4</td>\n",
       "    </tr>\n",
       "    <tr>\n",
       "      <th>19</th>\n",
       "      <td>20170101</td>\n",
       "      <td>Paid Search</td>\n",
       "      <td>mobile</td>\n",
       "      <td>296</td>\n",
       "      <td>10</td>\n",
       "    </tr>\n",
       "    <tr>\n",
       "      <th>20</th>\n",
       "      <td>20170101</td>\n",
       "      <td>Paid Search</td>\n",
       "      <td>tablet</td>\n",
       "      <td>91</td>\n",
       "      <td>5</td>\n",
       "    </tr>\n",
       "    <tr>\n",
       "      <th>21</th>\n",
       "      <td>20170101</td>\n",
       "      <td>Referral</td>\n",
       "      <td>desktop</td>\n",
       "      <td>1434</td>\n",
       "      <td>44</td>\n",
       "    </tr>\n",
       "    <tr>\n",
       "      <th>22</th>\n",
       "      <td>20170101</td>\n",
       "      <td>Referral</td>\n",
       "      <td>mobile</td>\n",
       "      <td>2025</td>\n",
       "      <td>45</td>\n",
       "    </tr>\n",
       "    <tr>\n",
       "      <th>23</th>\n",
       "      <td>20170101</td>\n",
       "      <td>Referral</td>\n",
       "      <td>tablet</td>\n",
       "      <td>738</td>\n",
       "      <td>25</td>\n",
       "    </tr>\n",
       "    <tr>\n",
       "      <th>24</th>\n",
       "      <td>20170101</td>\n",
       "      <td>Retargeting</td>\n",
       "      <td>desktop</td>\n",
       "      <td>2</td>\n",
       "      <td>0</td>\n",
       "    </tr>\n",
       "    <tr>\n",
       "      <th>25</th>\n",
       "      <td>20170101</td>\n",
       "      <td>Retargeting</td>\n",
       "      <td>mobile</td>\n",
       "      <td>4</td>\n",
       "      <td>0</td>\n",
       "    </tr>\n",
       "    <tr>\n",
       "      <th>26</th>\n",
       "      <td>20170101</td>\n",
       "      <td>Retargeting</td>\n",
       "      <td>tablet</td>\n",
       "      <td>1</td>\n",
       "      <td>0</td>\n",
       "    </tr>\n",
       "    <tr>\n",
       "      <th>27</th>\n",
       "      <td>20170101</td>\n",
       "      <td>Social</td>\n",
       "      <td>desktop</td>\n",
       "      <td>12</td>\n",
       "      <td>1</td>\n",
       "    </tr>\n",
       "    <tr>\n",
       "      <th>28</th>\n",
       "      <td>20170101</td>\n",
       "      <td>Social</td>\n",
       "      <td>mobile</td>\n",
       "      <td>62</td>\n",
       "      <td>1</td>\n",
       "    </tr>\n",
       "    <tr>\n",
       "      <th>29</th>\n",
       "      <td>20170101</td>\n",
       "      <td>Social</td>\n",
       "      <td>tablet</td>\n",
       "      <td>10</td>\n",
       "      <td>0</td>\n",
       "    </tr>\n",
       "    <tr>\n",
       "      <th>30</th>\n",
       "      <td>20170102</td>\n",
       "      <td>(Other)</td>\n",
       "      <td>desktop</td>\n",
       "      <td>57</td>\n",
       "      <td>4</td>\n",
       "    </tr>\n",
       "    <tr>\n",
       "      <th>31</th>\n",
       "      <td>20170102</td>\n",
       "      <td>(Other)</td>\n",
       "      <td>mobile</td>\n",
       "      <td>21</td>\n",
       "      <td>1</td>\n",
       "    </tr>\n",
       "    <tr>\n",
       "      <th>32</th>\n",
       "      <td>20170102</td>\n",
       "      <td>(Other)</td>\n",
       "      <td>tablet</td>\n",
       "      <td>22</td>\n",
       "      <td>1</td>\n",
       "    </tr>\n",
       "    <tr>\n",
       "      <th>33</th>\n",
       "      <td>20170102</td>\n",
       "      <td>Aggregators</td>\n",
       "      <td>desktop</td>\n",
       "      <td>43</td>\n",
       "      <td>3</td>\n",
       "    </tr>\n",
       "    <tr>\n",
       "      <th>34</th>\n",
       "      <td>20170102</td>\n",
       "      <td>Aggregators</td>\n",
       "      <td>mobile</td>\n",
       "      <td>30</td>\n",
       "      <td>1</td>\n",
       "    </tr>\n",
       "    <tr>\n",
       "      <th>35</th>\n",
       "      <td>20170102</td>\n",
       "      <td>Aggregators</td>\n",
       "      <td>tablet</td>\n",
       "      <td>26</td>\n",
       "      <td>1</td>\n",
       "    </tr>\n",
       "    <tr>\n",
       "      <th>36</th>\n",
       "      <td>20170102</td>\n",
       "      <td>Direct</td>\n",
       "      <td>desktop</td>\n",
       "      <td>1357</td>\n",
       "      <td>77</td>\n",
       "    </tr>\n",
       "    <tr>\n",
       "      <th>37</th>\n",
       "      <td>20170102</td>\n",
       "      <td>Direct</td>\n",
       "      <td>mobile</td>\n",
       "      <td>1563</td>\n",
       "      <td>23</td>\n",
       "    </tr>\n",
       "    <tr>\n",
       "      <th>38</th>\n",
       "      <td>20170102</td>\n",
       "      <td>Direct</td>\n",
       "      <td>tablet</td>\n",
       "      <td>390</td>\n",
       "      <td>29</td>\n",
       "    </tr>\n",
       "    <tr>\n",
       "      <th>39</th>\n",
       "      <td>20170102</td>\n",
       "      <td>Display</td>\n",
       "      <td>desktop</td>\n",
       "      <td>253</td>\n",
       "      <td>7</td>\n",
       "    </tr>\n",
       "  </tbody>\n",
       "</table>\n",
       "</div>"
      ],
      "text/plain": [
       "        date channelGrouping deviceCategory  sessions  conversions\n",
       "0   20170101         (Other)        desktop        32            2\n",
       "1   20170101         (Other)         mobile        14            0\n",
       "2   20170101         (Other)         tablet        21            1\n",
       "3   20170101     Aggregators        desktop        23            1\n",
       "4   20170101     Aggregators         mobile        21            1\n",
       "5   20170101     Aggregators         tablet        15            1\n",
       "6   20170101          Direct        desktop       937           62\n",
       "7   20170101          Direct         mobile       983           17\n",
       "8   20170101          Direct         tablet       307           11\n",
       "9   20170101         Display        desktop       207           13\n",
       "10  20170101         Display         mobile        11            0\n",
       "11  20170101         Display         tablet       213           13\n",
       "12  20170101           Email        desktop       412           23\n",
       "13  20170101           Email         mobile       678           14\n",
       "14  20170101           Email         tablet       177            7\n",
       "15  20170101  Organic Search        desktop      2302           47\n",
       "16  20170101  Organic Search         mobile      4580          123\n",
       "17  20170101  Organic Search         tablet      1670           73\n",
       "18  20170101     Paid Search        desktop        89            4\n",
       "19  20170101     Paid Search         mobile       296           10\n",
       "20  20170101     Paid Search         tablet        91            5\n",
       "21  20170101        Referral        desktop      1434           44\n",
       "22  20170101        Referral         mobile      2025           45\n",
       "23  20170101        Referral         tablet       738           25\n",
       "24  20170101     Retargeting        desktop         2            0\n",
       "25  20170101     Retargeting         mobile         4            0\n",
       "26  20170101     Retargeting         tablet         1            0\n",
       "27  20170101          Social        desktop        12            1\n",
       "28  20170101          Social         mobile        62            1\n",
       "29  20170101          Social         tablet        10            0\n",
       "30  20170102         (Other)        desktop        57            4\n",
       "31  20170102         (Other)         mobile        21            1\n",
       "32  20170102         (Other)         tablet        22            1\n",
       "33  20170102     Aggregators        desktop        43            3\n",
       "34  20170102     Aggregators         mobile        30            1\n",
       "35  20170102     Aggregators         tablet        26            1\n",
       "36  20170102          Direct        desktop      1357           77\n",
       "37  20170102          Direct         mobile      1563           23\n",
       "38  20170102          Direct         tablet       390           29\n",
       "39  20170102         Display        desktop       253            7"
      ]
     },
     "execution_count": 85,
     "metadata": {},
     "output_type": "execute_result"
    }
   ],
   "source": [
    "# sample query to re-check what data is about\n",
    "query = \"\"\"\n",
    "    SELECT * FROM apprenticeship-299321.sample_data.datatable\n",
    "    ORDER BY date ASC, channelGrouping, deviceCategory\n",
    "    LIMIT 40\n",
    "\"\"\"\n",
    "runQuery(query)\n",
    "\n",
    "# this is a complete day\n",
    "#         date channelGrouping deviceCategory  sessions  conversions\n",
    "# 0   20170101         (Other)        desktop        32            2\n",
    "# 1   20170101         (Other)         mobile        14            0\n",
    "# 2   20170101         (Other)         tablet        21            1\n",
    "# 3   20170101     Aggregators        desktop        23            1\n",
    "# 4   20170101     Aggregators         mobile        21            1\n",
    "# 5   20170101     Aggregators         tablet        15            1\n",
    "# 6   20170101          Direct        desktop       937           62\n",
    "# 7   20170101          Direct         mobile       983           17\n",
    "# 8   20170101          Direct         tablet       307           11\n",
    "# 9   20170101         Display        desktop       207           13\n",
    "# 10  20170101         Display         mobile        11            0\n",
    "# 11  20170101         Display         tablet       213           13\n",
    "# 12  20170101           Email        desktop       412           23\n",
    "# 13  20170101           Email         mobile       678           14\n",
    "# 14  20170101           Email         tablet       177            7\n",
    "# 15  20170101  Organic Search        desktop      2302           47\n",
    "# 16  20170101  Organic Search         mobile      4580          123\n",
    "# 17  20170101  Organic Search         tablet      1670           73\n",
    "# 18  20170101     Paid Search        desktop        89            4\n",
    "# 19  20170101     Paid Search         mobile       296           10\n",
    "# 20  20170101     Paid Search         tablet        91            5\n",
    "# 21  20170101        Referral        desktop      1434           44\n",
    "# 22  20170101        Referral         mobile      2025           45\n",
    "# 23  20170101        Referral         tablet       738           25\n",
    "# 24  20170101     Retargeting        desktop         2            0\n",
    "# 25  20170101     Retargeting         mobile         4            0\n",
    "# 26  20170101     Retargeting         tablet         1            0\n",
    "# 27  20170101          Social        desktop        12            1\n",
    "# 28  20170101          Social         mobile        62            1\n",
    "# 29  20170101          Social         tablet        10            0"
   ]
  },
  {
   "cell_type": "code",
   "execution_count": 3,
   "metadata": {},
   "outputs": [
    {
     "name": "stdout",
     "output_type": "stream",
     "text": [
      "  deviceCategory  deviceCategoryCount\n",
      "0         tablet                 5216\n",
      "1        desktop                 5263\n",
      "2         mobile                 5368\n"
     ]
    },
    {
     "data": {
      "text/plain": [
       "<AxesSubplot:ylabel='deviceCategoryCount'>"
      ]
     },
     "execution_count": 3,
     "metadata": {},
     "output_type": "execute_result"
    },
    {
     "data": {
      "image/png": "[encoded data removed]",
      "text/plain": [
       "<Figure size 432x288 with 1 Axes>"
      ]
     },
     "metadata": {},
     "output_type": "display_data"
    }
   ],
   "source": [
    "# TODO: title axes properly\n",
    "# TODO: should this be SUM(sessions)?\n",
    "query2 = \"\"\"\n",
    "    SELECT deviceCategory, COUNT(*) AS deviceCategoryCount\n",
    "    FROM apprenticeship-299321.sample_data.datatable\n",
    "    GROUP BY deviceCategory\n",
    "    ORDER BY deviceCategoryCount ASC\n",
    "\"\"\"\n",
    "runQuery(query2).plot.pie(x='deviceCategory', y='deviceCategoryCount', colors=threeColorsArray, legend=False, labels=[\"tablet\", \"desktop\", \"mobile\"])"
   ]
  },
  {
   "cell_type": "code",
   "execution_count": 24,
   "metadata": {},
   "outputs": [
    {
     "name": "stdout",
     "output_type": "stream",
     "text": [
      "  deviceCategory deviceCategoryCount\n",
      "0         tablet                5216\n",
      "1        desktop                5263\n",
      "2         mobile                5368\n",
      "...\n",
      "  dateString  conversionRate\n",
      "0       2017          0.0359\n",
      "1       2018          0.0370\n"
     ]
    },
    {
     "data": {
      "text/html": [
       "<div>\n",
       "<style scoped>\n",
       "    .dataframe tbody tr th:only-of-type {\n",
       "        vertical-align: middle;\n",
       "    }\n",
       "\n",
       "    .dataframe tbody tr th {\n",
       "        vertical-align: top;\n",
       "    }\n",
       "\n",
       "    .dataframe thead th {\n",
       "        text-align: right;\n",
       "    }\n",
       "</style>\n",
       "<table border=\"1\" class=\"dataframe\">\n",
       "  <thead>\n",
       "    <tr style=\"text-align: right;\">\n",
       "      <th></th>\n",
       "      <th>dateString</th>\n",
       "      <th>conversionRate</th>\n",
       "    </tr>\n",
       "  </thead>\n",
       "  <tbody>\n",
       "    <tr>\n",
       "      <th>0</th>\n",
       "      <td>2017</td>\n",
       "      <td>0.0359</td>\n",
       "    </tr>\n",
       "    <tr>\n",
       "      <th>1</th>\n",
       "      <td>2018</td>\n",
       "      <td>0.0370</td>\n",
       "    </tr>\n",
       "  </tbody>\n",
       "</table>\n",
       "</div>"
      ],
      "text/plain": [
       "  dateString  conversionRate\n",
       "0       2017          0.0359\n",
       "1       2018          0.0370"
      ]
     },
     "execution_count": 24,
     "metadata": {},
     "output_type": "execute_result"
    }
   ],
   "source": [
    "# for testing CONVERT and CAST - can delete\n",
    "# #legacySQL\n",
    "query21 = \"\"\"\n",
    "    SELECT deviceCategory, CAST(COUNT(*) AS string) AS deviceCategoryCount\n",
    "    FROM apprenticeship-299321.sample_data.datatable\n",
    "    GROUP BY deviceCategory\n",
    "    ORDER BY deviceCategoryCount ASC\n",
    "\"\"\"\n",
    "runQuery(query21)\n",
    "# runQuery(query2).plot.pie(x='deviceCategory', y='deviceCategoryCount', colors=threeColorsArray, legend=False, labels=[\"tablet\", \"desktop\", \"mobile\"])\n",
    "print(\"...\")\n",
    "query81 = \"\"\"\n",
    "    SELECT LEFT(CAST(date AS string), 4) AS dateString, ROUND((AVG(conversions))/(AVG(sessions)), 4) as conversionRate\n",
    "    FROM apprenticeship-299321.sample_data.datatable\n",
    "    GROUP BY dateString\n",
    "    ORDER BY dateString ASC\n",
    "\"\"\"\n",
    "runQuery(query81)\n",
    "# so I can confirm that it's casting properly etc."
   ]
  },
  {
   "cell_type": "code",
   "execution_count": 4,
   "metadata": {},
   "outputs": [
    {
     "name": "stdout",
     "output_type": "stream",
     "text": [
      "     channelGrouping  channelGroupingCount\n",
      "0         Newsletter                   503\n",
      "1   Partner referral                   503\n",
      "2       Email alerts                   516\n",
      "3        Retargeting                  1085\n",
      "4            Display                  1216\n",
      "5              Email                  1475\n",
      "6            (Other)                  1491\n",
      "7             Social                  1501\n",
      "8        Aggregators                  1501\n",
      "9        Paid Search                  1511\n",
      "10            Direct                  1515\n",
      "11          Referral                  1515\n",
      "12    Organic Search                  1515\n"
     ]
    },
    {
     "data": {
      "text/plain": [
       "<AxesSubplot:xlabel='channelGrouping'>"
      ]
     },
     "execution_count": 4,
     "metadata": {},
     "output_type": "execute_result"
    },
    {
     "data": {
      "image/png": "[encoded data removed]",
      "text/plain": [
       "<Figure size 432x288 with 1 Axes>"
      ]
     },
     "metadata": {
      "needs_background": "light"
     },
     "output_type": "display_data"
    }
   ],
   "source": [
    "# again, re-evaluate whether this should be SUM - what does the data represent?\n",
    "query3 = \"\"\"\n",
    "    SELECT channelGrouping, COUNT(*) AS channelGroupingCount\n",
    "    FROM apprenticeship-299321.sample_data.datatable\n",
    "    GROUP BY channelGrouping\n",
    "    ORDER BY channelGroupingCount ASC\n",
    "\"\"\"\n",
    "runQuery(query3).plot.bar(x='channelGrouping', y='channelGroupingCount', color=rainbowArray)"
   ]
  },
  {
   "cell_type": "code",
   "execution_count": 5,
   "metadata": {},
   "outputs": [],
   "source": [
    "# # query4 = \"\"\"\n",
    "# #     SELECT date, SUM(sessions) AS numberOfSessions\n",
    "# #     FROM `apprenticeship-299321.sample_data.datatable`\n",
    "# #     GROUP BY date\n",
    "# #     ORDER BY date ASC\n",
    "# # \"\"\"\n",
    "# query4 = \"\"\"\n",
    "#     SELECT PARSE_DATETIME('%s', CAST(TRUNC(event_timestamp/1000000) AS STRING)) AS numberOfSessions\n",
    "#     FROM apprenticeship-299321.sample_data.datatable\n",
    "#     GROUP BY date\n",
    "#     ORDER BY date ASC\n",
    "# \"\"\"\n",
    "# runQuery(query4).plot.bar(x='date', y='numberOfSessions', color=singleColorArray)"
   ]
  },
  {
   "cell_type": "code",
   "execution_count": 6,
   "metadata": {},
   "outputs": [
    {
     "name": "stdout",
     "output_type": "stream",
     "text": [
      "  deviceCategory  averageConversionsPerDeviceCategory\n",
      "0         tablet                                 20.4\n",
      "1         mobile                                 38.6\n",
      "2        desktop                                 53.7\n"
     ]
    },
    {
     "data": {
      "text/plain": [
       "<AxesSubplot:ylabel='averageConversionsPerDeviceCategory'>"
      ]
     },
     "execution_count": 6,
     "metadata": {},
     "output_type": "execute_result"
    },
    {
     "data": {
      "image/png": "[encoded data removed]",
      "text/plain": [
       "<Figure size 432x288 with 1 Axes>"
      ]
     },
     "metadata": {},
     "output_type": "display_data"
    }
   ],
   "source": [
    "# this is rounded to 1 decimal place, while other data is rounded to 4 -\n",
    "# this is because ideally I'd have used significant figures\n",
    "query5 = \"\"\"\n",
    "    SELECT deviceCategory, ROUND(AVG(conversions), 1) as averageConversionsPerDeviceCategory\n",
    "    FROM apprenticeship-299321.sample_data.datatable\n",
    "    GROUP BY deviceCategory\n",
    "    ORDER BY averageConversionsPerDeviceCategory\n",
    "\"\"\"\n",
    "runQuery(query5).plot.pie(y='averageConversionsPerDeviceCategory', colors=threeColorsArray1, legend=False, labels=[\"tablet\", \"mobile\", \"desktop\"])"
   ]
  },
  {
   "cell_type": "code",
   "execution_count": 7,
   "metadata": {},
   "outputs": [
    {
     "name": "stdout",
     "output_type": "stream",
     "text": [
      "  deviceCategory  conversionRatePerDeviceCategory\n",
      "0         mobile                           0.0261\n",
      "1        desktop                           0.0430\n",
      "2         tablet                           0.0551\n"
     ]
    },
    {
     "data": {
      "text/plain": [
       "<AxesSubplot:ylabel='conversionRatePerDeviceCategory'>"
      ]
     },
     "execution_count": 7,
     "metadata": {},
     "output_type": "execute_result"
    },
    {
     "data": {
      "image/png": "[encoded data removed]",
      "text/plain": [
       "<Figure size 432x288 with 1 Axes>"
      ]
     },
     "metadata": {},
     "output_type": "display_data"
    }
   ],
   "source": [
    "query6 = \"\"\"\n",
    "    SELECT deviceCategory, ROUND((AVG(conversions))/(AVG(sessions)), 4) as conversionRatePerDeviceCategory\n",
    "    FROM apprenticeship-299321.sample_data.datatable\n",
    "    GROUP BY deviceCategory\n",
    "    ORDER BY conversionRatePerDeviceCategory\n",
    "\"\"\"\n",
    "# TODO: colours correspond to first, second and third - should really represent the same device\n",
    "runQuery(query6).plot.pie(x='deviceCategory', y='conversionRatePerDeviceCategory', normalize=True, colors=threeColorsArray2, legend=False, labels=[\"mobile\", \"desktop\", \"tablet\"])"
   ]
  },
  {
   "cell_type": "code",
   "execution_count": 8,
   "metadata": {},
   "outputs": [
    {
     "name": "stdout",
     "output_type": "stream",
     "text": [
      "     channelGrouping  conversionRatePerChannelGrouping\n",
      "0             Social                            0.0287\n",
      "1            (Other)                            0.0344\n",
      "2         Newsletter                            0.0350\n",
      "3        Paid Search                            0.0350\n",
      "4             Direct                            0.0354\n",
      "5              Email                            0.0357\n",
      "6        Aggregators                            0.0358\n",
      "7       Email alerts                            0.0358\n",
      "8     Organic Search                            0.0368\n",
      "9           Referral                            0.0370\n",
      "10       Retargeting                            0.0387\n",
      "11  Partner referral                            0.0399\n",
      "12           Display                            0.0444\n"
     ]
    },
    {
     "data": {
      "text/plain": [
       "<AxesSubplot:xlabel='channelGrouping'>"
      ]
     },
     "execution_count": 8,
     "metadata": {},
     "output_type": "execute_result"
    },
    {
     "data": {
      "image/png": "[encoded data removed]",
      "text/plain": [
       "<Figure size 432x288 with 1 Axes>"
      ]
     },
     "metadata": {
      "needs_background": "light"
     },
     "output_type": "display_data"
    }
   ],
   "source": [
    "query7 = \"\"\"\n",
    "    SELECT channelGrouping, ROUND((AVG(conversions))/(AVG(sessions)), 4) as conversionRatePerChannelGrouping\n",
    "    FROM apprenticeship-299321.sample_data.datatable\n",
    "    GROUP BY channelGrouping\n",
    "    ORDER BY conversionRatePerChannelGrouping\n",
    "\"\"\"\n",
    "runQuery(query7).plot.bar(x='channelGrouping', y='conversionRatePerChannelGrouping', color=rainbowArray)\n"
   ]
  },
  {
   "cell_type": "code",
   "execution_count": 80,
   "metadata": {},
   "outputs": [
    {
     "name": "stdout",
     "output_type": "stream",
     "text": [
      "    dateFormat  conversionRate\n",
      "0   2017-01-01          0.0313\n",
      "1   2017-01-02          0.0308\n",
      "2   2017-01-03          0.0372\n",
      "3   2017-01-04          0.0317\n",
      "4   2017-01-05          0.0400\n",
      "..         ...             ...\n",
      "500 2018-05-16          0.0399\n",
      "501 2018-05-17          0.0345\n",
      "502 2018-05-18          0.0390\n",
      "503 2018-05-19          0.0342\n",
      "504 2018-05-20          0.0382\n",
      "\n",
      "[505 rows x 2 columns]\n"
     ]
    },
    {
     "data": {
      "text/plain": [
       "<AxesSubplot:xlabel='dateFormat'>"
      ]
     },
     "execution_count": 80,
     "metadata": {},
     "output_type": "execute_result"
    },
    {
     "data": {
      "image/png": "[encoded data removed]",
      "text/plain": [
       "<Figure size 432x288 with 1 Axes>"
      ]
     },
     "metadata": {
      "needs_background": "light"
     },
     "output_type": "display_data"
    }
   ],
   "source": [
    "# SET @YearString = LEFT(CAST(date AS string), 4)\n",
    "\n",
    "# query8 = \"\"\"\n",
    "#     DECLARE YearString STRING;\n",
    "#     SET YearString = LEFT(CAST(date AS string), 4);\n",
    "#     SELECT CAST(date AS string) AS dateString, ROUND((AVG(conversions))/(AVG(sessions)), 4) as conversionRate\n",
    "#     FROM `apprenticeship-299321.sample_data.datatable`\n",
    "#     GROUP BY dateString\n",
    "#     ORDER BY dateString ASC\n",
    "# \"\"\"\n",
    "\n",
    "# query8 = \"\"\"\n",
    "#     SELECT CAST(date AS string) AS dateString, LEFT(CAST(date AS string), 4) AS yearString, SUBSTRING(CAST(date AS string), 4, 6) AS monthString, RIGHT(CAST(date AS string), 2) AS dayString, ROUND((AVG(conversions))/(AVG(sessions)), 4) as conversionRate\n",
    "#     FROM `apprenticeship-299321.sample_data.datatable`\n",
    "#     GROUP BY dateString\n",
    "#     ORDER BY dateString ASC\n",
    "# \"\"\"\n",
    "\n",
    "# query8 = \"\"\"\n",
    "#     SELECT CAST(date AS string) AS dateString, \n",
    "#         LEFT(CAST(date AS string), 4) AS yearString, \n",
    "#         SUBSTRING(CAST(date AS string), 5, 2) AS monthString, \n",
    "#         RIGHT(CAST(date AS string), 2) AS dayString, \n",
    "#         CONCAT(yearString, \"-\", monthString, \"-\", \"dayString\") AS dateStringWithHyphens,\n",
    "#         ROUND((AVG(conversions))/(AVG(sessions)), 4) as conversionRate\n",
    "#     FROM `apprenticeship-299321.sample_data.datatable`\n",
    "#     GROUP BY dateString, yearString, monthString, dayString, dateStringWithHyphens\n",
    "#     ORDER BY dateString ASC\n",
    "# \"\"\"\n",
    "\n",
    "# query8 = \"\"\"\n",
    "#     SELECT CAST(date AS string) AS dateString, \n",
    "#         LEFT(CAST(date AS string), 4) AS yearString, \n",
    "#         SUBSTRING(CAST(date AS string), 5, 2) AS monthString, \n",
    "#         RIGHT(CAST(date AS string), 2) AS dayString, \n",
    "#         CONCAT(LEFT(CAST(date AS string), 4), \"-\", \n",
    "#             SUBSTRING(CAST(date AS string), 5, 2), \"-\", \n",
    "#             RIGHT(CAST(date AS string), 2)) AS dateStringWithHyphens,\n",
    "#         DATE_FORMAT(CONCAT(LEFT(CAST(date AS string), 4), \"-\", \n",
    "#             SUBSTRING(CAST(date AS string), 5, 2), \"-\", \n",
    "#             RIGHT(CAST(date AS string), 2)), \"%d %M %Y\"),\n",
    "#         ROUND((AVG(conversions))/(AVG(sessions)), 4) as conversionRate\n",
    "#     FROM `apprenticeship-299321.sample_data.datatable`\n",
    "#     GROUP BY dateString, yearString, monthString, dayString, dateStringWithHyphens\n",
    "#     ORDER BY dateString ASC\n",
    "# \"\"\"\n",
    "\n",
    "# query8 = \"\"\"\n",
    "#     SELECT CAST(date AS string) AS dateString, \n",
    "#         LEFT(CAST(date AS string), 4) AS yearString, \n",
    "#         SUBSTRING(CAST(date AS string), 5, 2) AS monthString, \n",
    "#         RIGHT(CAST(date AS string), 2) AS dayString, \n",
    "#         CONCAT(LEFT(CAST(date AS string), 4), \"-\", \n",
    "#             SUBSTRING(CAST(date AS string), 5, 2), \"-\", \n",
    "#             RIGHT(CAST(date AS string), 2)) AS dateStringWithHyphens,\n",
    "            \n",
    "#         DATE(CAST(LEFT(CAST(date AS string), 4) AS INT64), \n",
    "#             CAST(SUBSTRING(CAST(date AS string), 5, 2) AS INT64), \n",
    "#             CAST(RIGHT(CAST(date AS string), 2) AS INT64)) AS dateFormat,\n",
    "            \n",
    "#         ROUND((AVG(conversions))/(AVG(sessions)), 4) as conversionRate\n",
    "#     FROM `apprenticeship-299321.sample_data.datatable`\n",
    "#     GROUP BY dateString, yearString, monthString, dayString, dateStringWithHyphens, dateFormat\n",
    "#     ORDER BY dateString ASC\n",
    "# \"\"\"\n",
    "\n",
    "query8 = \"\"\"\n",
    "    SELECT DATE(CAST(LEFT(CAST(date AS string), 4) AS INT64), \n",
    "            CAST(SUBSTRING(CAST(date AS string), 5, 2) AS INT64), \n",
    "            CAST(RIGHT(CAST(date AS string), 2) AS INT64)) AS dateFormat, \n",
    "        ROUND((AVG(conversions))/(AVG(sessions)), 4) AS conversionRate\n",
    "    FROM `apprenticeship-299321.sample_data.datatable`\n",
    "    GROUP BY dateFormat\n",
    "    ORDER BY dateFormat ASC\n",
    "\"\"\"\n",
    "runQuery(query8).plot.line(x='dateFormat', y='conversionRate', color=singleColorArray)\n"
   ]
  },
  {
   "cell_type": "code",
   "execution_count": 75,
   "metadata": {},
   "outputs": [
    {
     "name": "stdout",
     "output_type": "stream",
     "text": [
      "    dateFormat  totalSessions\n",
      "0   2017-01-01          17367\n",
      "1   2017-01-02          27842\n",
      "2   2017-01-03          42792\n",
      "3   2017-01-04          42956\n",
      "4   2017-01-05          43019\n",
      "..         ...            ...\n",
      "500 2018-05-16          32012\n",
      "501 2018-05-17          26716\n",
      "502 2018-05-18          22831\n",
      "503 2018-05-19          14260\n",
      "504 2018-05-20          17993\n",
      "\n",
      "[505 rows x 2 columns]\n"
     ]
    },
    {
     "data": {
      "text/plain": [
       "<AxesSubplot:xlabel='dateFormat'>"
      ]
     },
     "execution_count": 75,
     "metadata": {},
     "output_type": "execute_result"
    },
    {
     "data": {
      "image/png": "[encoded data removed]",
      "text/plain": [
       "<Figure size 432x288 with 1 Axes>"
      ]
     },
     "metadata": {
      "needs_background": "light"
     },
     "output_type": "display_data"
    }
   ],
   "source": [
    "query9 = \"\"\"\n",
    "    SELECT DATE(CAST(LEFT(CAST(date AS string), 4) AS INT64), \n",
    "            CAST(SUBSTRING(CAST(date AS string), 5, 2) AS INT64), \n",
    "            CAST(RIGHT(CAST(date AS string), 2) AS INT64)) AS dateFormat,\n",
    "        SUM(sessions) as totalSessions\n",
    "    FROM apprenticeship-299321.sample_data.datatable\n",
    "    GROUP BY dateFormat\n",
    "    ORDER BY dateFormat ASC\n",
    "\"\"\"\n",
    "\n",
    "runQuery(query9).plot.line(x='dateFormat', y='totalSessions', color=singleColorArray)"
   ]
  },
  {
   "cell_type": "code",
   "execution_count": 76,
   "metadata": {},
   "outputs": [
    {
     "name": "stdout",
     "output_type": "stream",
     "text": [
      "    dateFormat  totalConversions\n",
      "0   2017-01-01               544\n",
      "1   2017-01-02               857\n",
      "2   2017-01-03              1590\n",
      "3   2017-01-04              1361\n",
      "4   2017-01-05              1719\n",
      "..         ...               ...\n",
      "500 2018-05-16              1278\n",
      "501 2018-05-17               922\n",
      "502 2018-05-18               891\n",
      "503 2018-05-19               488\n",
      "504 2018-05-20               688\n",
      "\n",
      "[505 rows x 2 columns]\n"
     ]
    },
    {
     "data": {
      "text/plain": [
       "<AxesSubplot:xlabel='dateFormat'>"
      ]
     },
     "execution_count": 76,
     "metadata": {},
     "output_type": "execute_result"
    },
    {
     "data": {
      "image/png": "[encoded data removed]",
      "text/plain": [
       "<Figure size 432x288 with 1 Axes>"
      ]
     },
     "metadata": {
      "needs_background": "light"
     },
     "output_type": "display_data"
    }
   ],
   "source": [
    "query10 = \"\"\"\n",
    "    SELECT DATE(CAST(LEFT(CAST(date AS string), 4) AS INT64), \n",
    "            CAST(SUBSTRING(CAST(date AS string), 5, 2) AS INT64), \n",
    "            CAST(RIGHT(CAST(date AS string), 2) AS INT64)) AS dateFormat,\n",
    "        SUM(conversions) AS totalConversions\n",
    "    FROM apprenticeship-299321.sample_data.datatable\n",
    "    GROUP BY dateFormat\n",
    "    ORDER BY dateFormat ASC\n",
    "\"\"\"\n",
    "runQuery(query10).plot.line(x='dateFormat', y='totalConversions', color=singleColorArray)"
   ]
  },
  {
   "cell_type": "code",
   "execution_count": 77,
   "metadata": {},
   "outputs": [
    {
     "name": "stdout",
     "output_type": "stream",
     "text": [
      "  deviceCategory  sumChannelGrouping\n",
      "0         tablet                5216\n",
      "1        desktop                5263\n",
      "2         mobile                5368\n"
     ]
    },
    {
     "data": {
      "text/plain": [
       "<AxesSubplot:ylabel='sumChannelGrouping'>"
      ]
     },
     "execution_count": 77,
     "metadata": {},
     "output_type": "execute_result"
    },
    {
     "data": {
      "image/png": "[encoded data removed]",
      "text/plain": [
       "<Figure size 432x288 with 1 Axes>"
      ]
     },
     "metadata": {},
     "output_type": "display_data"
    }
   ],
   "source": [
    "query10 = \"\"\"\n",
    "    SELECT deviceCategory, COUNT(channelGrouping) AS sumChannelGrouping\n",
    "    FROM apprenticeship-299321.sample_data.datatable\n",
    "    GROUP BY deviceCategory\n",
    "    ORDER BY sumChannelGrouping ASC\n",
    "\"\"\"\n",
    "runQuery(query10).plot.pie(x='deviceCategory', y='sumChannelGrouping', colors=threeColorsArray, legend=False, labels=[\"tablet\", \"desktop\", \"mobile\"])"
   ]
  },
  {
   "cell_type": "code",
   "execution_count": 78,
   "metadata": {},
   "outputs": [
    {
     "name": "stdout",
     "output_type": "stream",
     "text": [
      "   conversionRateFor2017\n",
      "0                 0.0359\n",
      "   conversionRateFor2018\n",
      "0                  0.037\n"
     ]
    },
    {
     "data": {
      "image/png": "[encoded data removed]",
      "text/plain": [
       "<Figure size 432x288 with 1 Axes>"
      ]
     },
     "metadata": {
      "needs_background": "light"
     },
     "output_type": "display_data"
    }
   ],
   "source": [
    "# conversion rates for each year\n",
    "query11 = \"\"\"\n",
    "    SELECT ROUND((AVG(conversions))/(AVG(sessions)), 4) AS conversionRateFor2017\n",
    "    FROM apprenticeship-299321.sample_data.datatable\n",
    "    WHERE date<20180000\n",
    "\"\"\"\n",
    "conversionRateFor2017 = runQuery(query11)\n",
    "\n",
    "query12 = \"\"\"\n",
    "    SELECT ROUND((AVG(conversions))/(AVG(sessions)), 4) AS conversionRateFor2018\n",
    "    FROM apprenticeship-299321.sample_data.datatable\n",
    "    WHERE date>20180000\n",
    "\"\"\"\n",
    "conversionRateFor2018 = runQuery(query12)\n",
    "\n",
    "# TODO: change conversionRateFor2017 and conversionRateFor2018 variable types\n",
    "# so that the code below works and you don't have to hardcode the data\n",
    "# data = {\"Year\":[2017, 2018], \"Conversion Rate\":[conversionRateFor2017, conversionRateFor2018]};\n",
    "# dataFrame= pd.DataFrame(data=data)\n",
    "# dataFrame.plot.bar(x=\"Year\", y=\"Conversion Rate\")\n",
    "# plot.show(block=True)\n",
    "\n",
    "data = {\"Year\":[2017, 2018], \"Conversion Rate\":[0.0359, 0.0370]};\n",
    "dataFrame= pd.DataFrame(data=data)\n",
    "dataFrame.plot.bar(x=\"Year\", y=\"Conversion Rate\", color=singleColorArray)\n",
    "plot.show(block=True)"
   ]
  },
  {
   "cell_type": "code",
   "execution_count": null,
   "metadata": {},
   "outputs": [],
   "source": []
  }
 ],
 "metadata": {
  "kernelspec": {
   "display_name": "Python 3",
   "language": "python",
   "name": "python3"
  },
  "language_info": {
   "codemirror_mode": {
    "name": "ipython",
    "version": 3
   },
   "file_extension": ".py",
   "mimetype": "text/x-python",
   "name": "python",
   "nbconvert_exporter": "python",
   "pygments_lexer": "ipython3",
   "version": "3.8.5"
  }
 },
 "nbformat": 4,
 "nbformat_minor": 4
}
